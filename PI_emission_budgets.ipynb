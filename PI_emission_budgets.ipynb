{
 "cells": [
  {
   "cell_type": "code",
   "execution_count": 1,
   "id": "c23e2e11-3c01-4780-84f4-6a3c6f15e4a8",
   "metadata": {},
   "outputs": [
    {
     "name": "stdout",
     "output_type": "stream",
     "text": [
      "this worked\n"
     ]
    }
   ],
   "source": [
    "#test emissions budgets following remap\n",
    "import xarray as xr\n",
    "import pandas as pd\n",
    "import numpy as np\n",
    "\n",
    "# Load the NetCDF file -- Fe emissions PI \n",
    "Rathod_OG = xr.open_dataset(\"BioFuel_1750_SRathod2017.nc\")\n",
    "Rathod_remapped = xr.open_dataset(\"BioFuel_1750_SRathod2017_0.9x1.25_remapcon.nc\")\n",
    "\n",
    "print(\"this worked\")"
   ]
  },
  {
   "cell_type": "code",
   "execution_count": 2,
   "id": "d590b79a-c4b3-4427-8632-014bf9e90918",
   "metadata": {},
   "outputs": [
    {
     "name": "stdout",
     "output_type": "stream",
     "text": [
      "OG <xarray.Dataset> Size: 112kB\n",
      "Dimensions:  (lon: 144, lat: 96)\n",
      "Coordinates:\n",
      "  * lon      (lon) float32 576B 0.0 2.5 5.0 7.5 10.0 ... 350.0 352.5 355.0 357.5\n",
      "  * lat      (lat) float32 384B -90.0 -88.11 -86.21 -84.32 ... 86.21 88.11 90.0\n",
      "Data variables:\n",
      "    SFEBF    (lat, lon) float32 55kB ...\n",
      "    TFEBF    (lat, lon) float32 55kB ...\n",
      "Attributes:\n",
      "    Title:    Sol and Tot Fe emissions from BF in 1750 \n",
      "Remap <xarray.Dataset> Size: 446kB\n",
      "Dimensions:  (lon: 288, lat: 192)\n",
      "Coordinates:\n",
      "  * lon      (lon) float64 2kB 0.0 1.25 2.5 3.75 5.0 ... 355.0 356.2 357.5 358.8\n",
      "  * lat      (lat) float64 2kB -90.0 -89.06 -88.12 -87.17 ... 88.12 89.06 90.0\n",
      "Data variables:\n",
      "    SFEBF    (lat, lon) float32 221kB ...\n",
      "    TFEBF    (lat, lon) float32 221kB ...\n",
      "Attributes:\n",
      "    CDI:          Climate Data Interface version 2.4.4 (https://mpimet.mpg.de...\n",
      "    Conventions:  CF-1.6\n",
      "    Title:        Sol and Tot Fe emissions from BF in 1750 \n",
      "    history:      Sun Apr 06 12:17:14 2025: cdo remapcon,grid_288x192.txt Bio...\n",
      "    CDO:          Climate Data Operators version 2.4.4 (https://mpimet.mpg.de...\n"
     ]
    }
   ],
   "source": [
    "print(\"OG\", Rathod_OG) \n",
    "\n",
    "print(\"Remap\", Rathod_remapped)"
   ]
  },
  {
   "cell_type": "code",
   "execution_count": 3,
   "id": "8649cc57-bafc-477c-9fd2-8b3699698098",
   "metadata": {},
   "outputs": [
    {
     "name": "stdout",
     "output_type": "stream",
     "text": [
      "<xarray.DataArray (lat: 192, lon: 288)> Size: 221kB\n",
      "array([[0., 0., 0., ..., 0., 0., 0.],\n",
      "       [0., 0., 0., ..., 0., 0., 0.],\n",
      "       [0., 0., 0., ..., 0., 0., 0.],\n",
      "       ...,\n",
      "       [0., 0., 0., ..., 0., 0., 0.],\n",
      "       [0., 0., 0., ..., 0., 0., 0.],\n",
      "       [0., 0., 0., ..., 0., 0., 0.]], dtype=float32)\n",
      "Coordinates:\n",
      "  * lon      (lon) float64 2kB 0.0 1.25 2.5 3.75 5.0 ... 355.0 356.2 357.5 358.8\n",
      "  * lat      (lat) float64 2kB -90.0 -89.06 -88.12 -87.17 ... 88.12 89.06 90.0\n"
     ]
    }
   ],
   "source": [
    "# Extract emissions values \n",
    "SFEBF = Rathod_remapped['SFEBF'] # soluble fraction Emission data\n",
    "TFEBF = Rathod_remapped['TFEBF'] # insoluble fraction Emission data\n",
    "\n",
    "Tot_FEBF = SFEBF + TFEBF \n",
    "\n",
    "print(Tot_FEBF)"
   ]
  },
  {
   "cell_type": "code",
   "execution_count": 4,
   "id": "a984cea3-033b-4953-810a-09ca468bf766",
   "metadata": {},
   "outputs": [
    {
     "name": "stdout",
     "output_type": "stream",
     "text": [
      "surface area, 5.112020e+14\n"
     ]
    }
   ],
   "source": [
    "# FIND AREA OF INDIVIDUAL GRID CELLS --------------------------------\n",
    "lon = Rathod_remapped['lon'].values  # Longitude values \n",
    "lat = Rathod_remapped['lat'].values  # Latitude values\n",
    "\n",
    "lon_rads = np.radians(lon)\n",
    "lat_rads = np.radians(lat)\n",
    "d_lat = np.abs(lat[1] - lat[0])  # Latitude grid spacing in degrees\n",
    "d_lon = np.abs(lon[1] - lon[0])  # Longitude grid spacing in degrees\n",
    "g_lat = np.radians(d_lat / 2)  # Latitude half-spacing in radians\n",
    "g_lon = np.radians(d_lon / 2)  # Longitude half-spacing in radians\n",
    "\n",
    "R = 6.3781E6 \n",
    "cell_areas_staggered = []\n",
    "for i in range(len(lat)):\n",
    "    for j in range(len(lon)):\n",
    "        lat_center = lat_rads[i]\n",
    "        lon_center = lon_rads[j]\n",
    "        lat_north = lat_center + g_lat\n",
    "        lat_south = lat_center - g_lat\n",
    "        lat_north = np.clip(lat_north, -np.pi / 2, np.pi / 2)\n",
    "        lat_south = np.clip(lat_south, -np.pi / 2, np.pi / 2)\n",
    "        area = R**2 * (np.sin(lat_north) - np.sin(lat_south)) * (2 * g_lon)\n",
    "        cell_areas_staggered.append(area)\n",
    "\n",
    "cell_areas_staggered = np.array(cell_areas_staggered).reshape(len(lat), len(lon))\n",
    "\n",
    "# Verify to see if areas add to 5.1E14 in m^2\n",
    "sum_sa_earth = cell_areas_staggered.sum()\n",
    "print(f\"surface area, {sum_sa_earth:3e}\") \n",
    "\n",
    "all_FE_emiss = xr.Dataset({\n",
    "    \"Tot_FEBF\": Tot_FEBF,\n",
    "    \"S_FEBF\": SFEBF,\n",
    "    })\n",
    "\n",
    "# add cell area to original xarrays for easy calling \n",
    "all_FE_emiss['cell_area'] = xr.DataArray(\n",
    "    cell_areas_staggered,\n",
    "    dims=[\"lat\", \"lon\"],  # Same dimensions as in the original dataset\n",
    "    coords={\"lat\": all_FE_emiss['lat'], \"lon\": all_FE_emiss['lon']},  # Use original coordinates\n",
    "    attrs={\n",
    "        \"units\": \"m^2\",  # Specify units for the cell area\n",
    "        \"description\": \"Calculated grid cell area using staggered grid approach\",\n",
    "    },\n",
    ")"
   ]
  },
  {
   "cell_type": "code",
   "execution_count": 5,
   "id": "51370063-7910-4437-bd7f-7538e73d947b",
   "metadata": {},
   "outputs": [
    {
     "ename": "TypeError",
     "evalue": "unhashable type: 'DataArray'",
     "output_type": "error",
     "traceback": [
      "\u001b[0;31m---------------------------------------------------------------------------\u001b[0m",
      "\u001b[0;31mTypeError\u001b[0m                                 Traceback (most recent call last)",
      "Cell \u001b[0;32mIn[5], line 11\u001b[0m\n\u001b[1;32m      8\u001b[0m  individual_cell_emissions[var_name] \u001b[38;5;241m=\u001b[39m (all_FE_emiss[var_name] \u001b[38;5;241m*\u001b[39m all_FE_emiss[\u001b[38;5;124m'\u001b[39m\u001b[38;5;124mcell_area\u001b[39m\u001b[38;5;124m'\u001b[39m] \u001b[38;5;241m*\u001b[39m \u001b[38;5;241m3600\u001b[39m \u001b[38;5;241m*\u001b[39m \u001b[38;5;241m24\u001b[39m \u001b[38;5;241m*\u001b[39m \u001b[38;5;241m365\u001b[39m \u001b[38;5;241m*\u001b[39m\u001b[38;5;241m1E-9\u001b[39m)\n\u001b[1;32m     10\u001b[0m \u001b[38;5;66;03m# Calculate the total budget by summing individual emissions\u001b[39;00m\n\u001b[0;32m---> 11\u001b[0m  total_budget \u001b[38;5;241m=\u001b[39m \u001b[38;5;28mfloat\u001b[39m(\u001b[43mindividual_cell_emissions\u001b[49m\u001b[43m[\u001b[49m\u001b[43mTot_FEBF\u001b[49m\u001b[43m]\u001b[49m\u001b[38;5;241m.\u001b[39msum()\u001b[38;5;241m.\u001b[39mvalues)  \u001b[38;5;66;03m# Ensure it's a float\u001b[39;00m\n\u001b[1;32m     12\u001b[0m  sFe_budget \u001b[38;5;241m=\u001b[39m \u001b[38;5;28mfloat\u001b[39m(individual_cell_emissions[S_FEBF]\u001b[38;5;241m.\u001b[39msum()\u001b[38;5;241m.\u001b[39mvalues)\n\u001b[1;32m     14\u001b[0m  \u001b[38;5;66;03m# Store the budgets for the variable in a nested dictionary\u001b[39;00m\n",
      "\u001b[0;31mTypeError\u001b[0m: unhashable type: 'DataArray'"
     ]
    }
   ],
   "source": [
    "# Loop over all variables in the dataset\n",
    "global_budgets = {}\n",
    "individual_cell_emissions = {}\n",
    "\n",
    "for var_name in all_FE_emiss.data_vars:\n",
    "    if \"FE\" in var_name:  \n",
    "        # Calculate individual emissions (for each cell) and convert from sec to annual and from kg to Tg\n",
    "        individual_cell_emissions[var_name] = (all_FE_emiss[var_name] * all_FE_emiss['cell_area'] * 3600 * 24 * 365 *1E-9)\n",
    "        \n",
    "       # Calculate the total budget by summing individual emissions\n",
    "        total_budget = float(individual_cell_emissions[Tot_FEBF].sum().values)  # Ensure it's a float\n",
    "        \n",
    "        # Store the budgets for the variable in a nested dictionary\n",
    "        global_budgets[var_name] = {\n",
    "            \"Total_Budget\": total_budget,\n",
    "        }\n",
    "\n",
    "budget_df = pd.DataFrame(global_budgets).T  # Transpose to get variables as rows and budgets as columns\n",
    "\n",
    "# Reset index and give the proper column name for variables\n",
    "budget_df.reset_index(inplace=True)\n",
    "budget_df.rename(columns={'index': 'Variable'}, inplace=True)\n",
    "\n",
    "# Ensure all columns have the correct numeric type\n",
    "budget_df = budget_df.apply(pd.to_numeric, errors='ignore')  # Apply to convert all numeric\n",
    "\n",
    "print(\"Fe emiss budget remapped\", budget_df)"
   ]
  },
  {
   "cell_type": "code",
   "execution_count": 6,
   "id": "916e3d60-aa15-48f4-9560-aeb0e0eeaa02",
   "metadata": {},
   "outputs": [
    {
     "name": "stdout",
     "output_type": "stream",
     "text": [
      "Fe emiss budget remapped    Variable  Total_Budget  sFe_Budget\n",
      "0  Tot_FEBF       0.00079    0.000072\n"
     ]
    },
    {
     "name": "stderr",
     "output_type": "stream",
     "text": [
      "/glade/derecho/scratch/heplaas/tmp/ipykernel_8554/1334438251.py:32: FutureWarning: errors='ignore' is deprecated and will raise in a future version. Use to_numeric without passing `errors` and catch exceptions explicitly instead\n",
      "  budget_df = budget_df.apply(pd.to_numeric, errors='ignore')  # Apply to convert all numeric\n"
     ]
    }
   ],
   "source": [
    "# Loop over all variables in the dataset\n",
    "global_budgets = {}\n",
    "individual_cell_emissions = {}\n",
    "\n",
    "# Compute emissions\n",
    "individual_cell_emissions[\"Tot_FEBF\"] = (\n",
    "    all_FE_emiss[\"Tot_FEBF\"] * all_FE_emiss[\"cell_area\"] * 3600 * 24 * 365 * 1E-9\n",
    ")\n",
    "\n",
    "individual_cell_emissions[\"S_FEBF\"] = (\n",
    "    all_FE_emiss[\"S_FEBF\"] * all_FE_emiss[\"cell_area\"] * 3600 * 24 * 365 * 1E-9\n",
    ")\n",
    "\n",
    "# Calculate budgets\n",
    "total_budget = float(individual_cell_emissions[\"Tot_FEBF\"].sum().values)\n",
    "sFe_budget = float(individual_cell_emissions[\"S_FEBF\"].sum().values)\n",
    "\n",
    "# Store\n",
    "global_budgets = {\n",
    "    \"Tot_FEBF\": {\n",
    "        \"Total_Budget\": total_budget,\n",
    "        \"sFe_Budget\": sFe_budget,\n",
    "    }\n",
    "}\n",
    "budget_df = pd.DataFrame(global_budgets).T  # Transpose to get variables as rows and budgets as columns\n",
    "\n",
    "# Reset index and give the proper column name for variables\n",
    "budget_df.reset_index(inplace=True)\n",
    "budget_df.rename(columns={'index': 'Variable'}, inplace=True)\n",
    "\n",
    "# Ensure all columns have the correct numeric type\n",
    "budget_df = budget_df.apply(pd.to_numeric, errors='ignore')  # Apply to convert all numeric\n",
    "\n",
    "print(\"Fe emiss budget remapped\", budget_df)"
   ]
  }
 ],
 "metadata": {
  "kernelspec": {
   "display_name": "NPL 2025a",
   "language": "python",
   "name": "npl-2025a"
  },
  "language_info": {
   "codemirror_mode": {
    "name": "ipython",
    "version": 3
   },
   "file_extension": ".py",
   "mimetype": "text/x-python",
   "name": "python",
   "nbconvert_exporter": "python",
   "pygments_lexer": "ipython3",
   "version": "3.12.8"
  }
 },
 "nbformat": 4,
 "nbformat_minor": 5
}
