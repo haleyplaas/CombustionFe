{
 "cells": [
  {
   "cell_type": "code",
   "execution_count": 1,
   "id": "785a8f7f-b98a-42ce-8c0f-d162858fea2a",
   "metadata": {},
   "outputs": [
    {
     "name": "stdout",
     "output_type": "stream",
     "text": [
      "Rathod_remapped_new_var <xarray.Dataset> Size: 667kB\n",
      "Dimensions:  (lon: 288, lat: 192)\n",
      "Coordinates:\n",
      "  * lon      (lon) float64 2kB 0.0 1.25 2.5 3.75 5.0 ... 355.0 356.2 357.5 358.8\n",
      "  * lat      (lat) float64 2kB -90.0 -89.06 -88.12 -87.17 ... 88.12 89.06 90.0\n",
      "Data variables:\n",
      "    SFEBF    (lat, lon) float32 221kB ...\n",
      "    TFEBF    (lat, lon) float32 221kB ...\n",
      "    FFBFf    (lat, lon) float32 221kB 0.0 0.0 0.0 0.0 0.0 ... 0.0 0.0 0.0 0.0\n",
      "Attributes:\n",
      "    CDI:          Climate Data Interface version 2.4.4 (https://mpimet.mpg.de...\n",
      "    Conventions:  CF-1.6\n",
      "    Title:        Sol and Tot Fe emissions from BF in 1750 \n",
      "    history:      Sun Apr 06 12:17:14 2025: cdo remapcon,grid_288x192.txt Bio...\n",
      "    CDO:          Climate Data Operators version 2.4.4 (https://mpimet.mpg.de...\n",
      "netcdf made\n"
     ]
    }
   ],
   "source": [
    "# Combine Sagar's insol and sol fraction of Fe emissions into total \n",
    "\n",
    "import xarray as xr\n",
    "import pandas as pd\n",
    "import numpy as np\n",
    "\n",
    "Rathod_remapped = xr.open_dataset(\"BioFuel_1750_SRathod2017_0.9x1.25_remapcon.nc\")\n",
    "\n",
    "# Extract emissions values \n",
    "SFEBF = Rathod_remapped['SFEBF'] # soluble fraction Emission data\n",
    "TFEBF = Rathod_remapped['TFEBF'] # insoluble fraction Emission data\n",
    "\n",
    "Rathod_remapped['FFBFf'] = Rathod_remapped['SFEBF'] + Rathod_remapped['TFEBF']\n",
    "\n",
    "print(\"Rathod_remapped_new_var\", Rathod_remapped)\n",
    "\n",
    "Rathod_remapped.to_netcdf(\"BioFuel_1750_SRathod2017_0.9x1.25_remapcon_FFBFf.nc\") \n",
    "\n",
    "print(\"netcdf made\")\n"
   ]
  }
 ],
 "metadata": {
  "kernelspec": {
   "display_name": "NPL 2025a",
   "language": "python",
   "name": "npl-2025a"
  },
  "language_info": {
   "codemirror_mode": {
    "name": "ipython",
    "version": 3
   },
   "file_extension": ".py",
   "mimetype": "text/x-python",
   "name": "python",
   "nbconvert_exporter": "python",
   "pygments_lexer": "ipython3",
   "version": "3.12.8"
  }
 },
 "nbformat": 4,
 "nbformat_minor": 5
}
